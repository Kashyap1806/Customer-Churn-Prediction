{
 "cells": [
  {
   "cell_type": "code",
   "execution_count": 4,
   "id": "a22b7732-74ce-4077-bd7c-dc20dfe75732",
   "metadata": {},
   "outputs": [
    {
     "name": "stdout",
     "output_type": "stream",
     "text": [
      "Confusion Matrix: [[915 118]\n",
      " [181 193]]\n",
      "\n",
      "ROC AUC Score: 0.832\n"
     ]
    }
   ],
   "source": [
    "\n",
    "\n",
    "import pandas as pd\n",
    "from sklearn.model_selection import train_test_split\n",
    "from sklearn.preprocessing import StandardScaler\n",
    "from sklearn.linear_model import LogisticRegression\n",
    "from sklearn.metrics import classification_report, confusion_matrix, roc_auc_score\n",
    "import matplotlib.pyplot as plt\n",
    "\n",
    "# 1. Load Data\n",
    "df = pd.read_csv(\"C:\\\\Users\\\\KShah1\\\\Downloads\\\\Customer Churn\\\\WA_Fn-UseC_-Telco-Customer-Churn.csv\")\n",
    "\n",
    "# 2. Drop unused column\n",
    "df.drop(\"customerID\", axis=1, inplace=True)\n",
    "\n",
    "# 3. Convert TotalCharges to numeric\n",
    "df[\"TotalCharges\"] = pd.to_numeric(df[\"TotalCharges\"], errors=\"coerce\")\n",
    "\n",
    "# 4. Drop missing rows\n",
    "df.dropna(inplace=True)\n",
    "\n",
    "# 5. Encode Target Variable\n",
    "df[\"Churn\"] = df[\"Churn\"].map({\"No\": 0, \"Yes\": 1})\n",
    "\n",
    "# 6. One-hot encode categorical variables\n",
    "categorical_cols = df.select_dtypes(include=\"object\").columns.tolist()\n",
    "\n",
    "df = pd.get_dummies(df, columns=categorical_cols, drop_first=True)\n",
    "\n",
    "# 7. Split Features and Target\n",
    "X = df.drop(\"Churn\", axis=1)\n",
    "y = df[\"Churn\"]\n",
    "\n",
    "# 8. Standardize features\n",
    "scaler = StandardScaler()\n",
    "X_scaled = scaler.fit_transform(X)\n",
    "\n",
    "# 9. Train-test split\n",
    "X_train, X_test, y_train, y_test = train_test_split(X_scaled, y, test_size=0.2, random_state=42)\n",
    "\n",
    "# 10. Train Logistic Regression model\n",
    "model = LogisticRegression(max_iter=1000)\n",
    "model.fit(X_train, y_train)\n",
    "\n",
    "# 11. Predictions\n",
    "y_pred = model.predict(X_test)\n",
    "y_prob = model.predict_proba(X_test)[:, 1]\n",
    "\n",
    "# 12. Evaluation\n",
    "print(\"Confusion Matrix:\", cm)\n",
    "cm = confusion_matrix(y_test, y_pred)\n",
    "\n",
    "\n",
    "\n",
    "print(\"\\nROC AUC Score:\", round(roc_auc_score(y_test, y_prob), 3))\n"
   ]
  },
  {
   "cell_type": "code",
   "execution_count": null,
   "id": "e43521ae-c64a-42b3-8187-8837beb4308a",
   "metadata": {},
   "outputs": [],
   "source": []
  },
  {
   "cell_type": "code",
   "execution_count": null,
   "id": "3bbec388-e9ad-48eb-92cc-56672949d217",
   "metadata": {},
   "outputs": [],
   "source": []
  }
 ],
 "metadata": {
  "kernelspec": {
   "display_name": "Python 3 (ipykernel)",
   "language": "python",
   "name": "python3"
  },
  "language_info": {
   "codemirror_mode": {
    "name": "ipython",
    "version": 3
   },
   "file_extension": ".py",
   "mimetype": "text/x-python",
   "name": "python",
   "nbconvert_exporter": "python",
   "pygments_lexer": "ipython3",
   "version": "3.13.3"
  }
 },
 "nbformat": 4,
 "nbformat_minor": 5
}
